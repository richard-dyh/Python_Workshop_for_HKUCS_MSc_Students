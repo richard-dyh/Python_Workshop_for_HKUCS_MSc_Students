{
  "cells": [
    {
      "cell_type": "markdown",
      "metadata": {
        "id": "view-in-github",
        "colab_type": "text"
      },
      "source": [
        "<a href=\"https://colab.research.google.com/github/richard-dyh/Python_Workshop_for_HKUCS_MSc_Students/blob/main/2-3.%20F-Strings.ipynb\" target=\"_parent\"><img src=\"https://colab.research.google.com/assets/colab-badge.svg\" alt=\"Open In Colab\"/></a>"
      ]
    },
    {
      "cell_type": "markdown",
      "id": "0273d69c",
      "metadata": {
        "id": "0273d69c"
      },
      "source": [
        "> **_[Python workshop] 2-3. F-Strings_**"
      ]
    },
    {
      "cell_type": "markdown",
      "id": "6fe3ecc1",
      "metadata": {
        "id": "6fe3ecc1"
      },
      "source": [
        "# Introduction"
      ]
    },
    {
      "cell_type": "markdown",
      "id": "3d3ded99-22f2-44ea-ad3a-86272216238e",
      "metadata": {
        "id": "3d3ded99-22f2-44ea-ad3a-86272216238e"
      },
      "source": [
        "## Formatting strings with F-string\n",
        "\n",
        "Another effective way of string construction is the use of **F-string**. F-string is available in Python 3.6.\n",
        "\n",
        "F-string is defined by adding character `f` before a string literal, which includes placeholders for values. For example:"
      ]
    },
    {
      "cell_type": "code",
      "execution_count": null,
      "id": "625f7763-5c2c-489c-9857-3d9ddf54406e",
      "metadata": {
        "id": "625f7763-5c2c-489c-9857-3d9ddf54406e",
        "outputId": "107c47f2-292c-4edc-f850-02e98db423a5"
      },
      "outputs": [
        {
          "name": "stdout",
          "output_type": "stream",
          "text": [
            "1 + 2 = 3\n"
          ]
        }
      ],
      "source": [
        "a = 1\n",
        "b = 2\n",
        "c = a + b\n",
        "print(f'{a} + {b} = {c}')"
      ]
    },
    {
      "cell_type": "markdown",
      "id": "77d0e89d-d9e2-4b07-9dac-44ee101793d8",
      "metadata": {
        "id": "77d0e89d-d9e2-4b07-9dac-44ee101793d8"
      },
      "source": [
        "In the example above, `{a}` is a placeholder for `a`, the value of `a` will be placed there."
      ]
    },
    {
      "cell_type": "markdown",
      "id": "d5d89479-04f7-4f66-9c8d-97183d430bc8",
      "metadata": {
        "id": "d5d89479-04f7-4f66-9c8d-97183d430bc8"
      },
      "source": [
        "## Using an expression in the placeholder\n",
        "\n",
        "The placeholder is defined by `{}`, which evaluate an expression, so we can also do this:"
      ]
    },
    {
      "cell_type": "code",
      "execution_count": null,
      "id": "1fcb5b33-8033-4990-9af4-6f20e58fde24",
      "metadata": {
        "id": "1fcb5b33-8033-4990-9af4-6f20e58fde24",
        "outputId": "db7feed6-0525-4384-ba10-27648cdf1ac0"
      },
      "outputs": [
        {
          "name": "stdout",
          "output_type": "stream",
          "text": [
            "1 + 2 = 3\n"
          ]
        }
      ],
      "source": [
        "a = 1\n",
        "b = 2\n",
        "print(f'{a} + {b} = {a + b}')"
      ]
    },
    {
      "cell_type": "markdown",
      "id": "497d4da8",
      "metadata": {
        "id": "497d4da8"
      },
      "source": [
        "# Self-learning topics\n",
        "\n",
        "There are no quizzes and exercises for this section (there is one challenge). You may come back to this section later.\n",
        "\n",
        "F-Strings\n",
        "- Using format specifiers\n",
        "- Formatting numbers in a string\n",
        "- Variable specifiers\n",
        "- Other formatting options"
      ]
    },
    {
      "cell_type": "markdown",
      "id": "ed81d030-b3ea-46c2-8f36-a99e287f9dc5",
      "metadata": {
        "id": "ed81d030-b3ea-46c2-8f36-a99e287f9dc5"
      },
      "source": [
        "## Adding format specifiers\n",
        "\n",
        "We can add a colon `:` in the placeholder, and specify a set of format specifiers. For example, to set the **minimum** length:"
      ]
    },
    {
      "cell_type": "code",
      "execution_count": null,
      "id": "6926025a-bd2d-4cf0-8beb-51e0077e6546",
      "metadata": {
        "id": "6926025a-bd2d-4cf0-8beb-51e0077e6546",
        "outputId": "759c91cb-ef91-49c6-939b-7e2e7991a284"
      },
      "outputs": [
        {
          "name": "stdout",
          "output_type": "stream",
          "text": [
            "x:5 |abc  |\n",
            "y:5 |abcdefg|\n"
          ]
        }
      ],
      "source": [
        "x = \"abc\"\n",
        "y = \"abcdefg\"\n",
        "print(f'x:5 |{x:5}|')\n",
        "print(f'y:5 |{y:5}|')"
      ]
    },
    {
      "cell_type": "markdown",
      "id": "96215e93-db5d-4e6b-8ad6-c96372798430",
      "metadata": {
        "id": "96215e93-db5d-4e6b-8ad6-c96372798430"
      },
      "source": [
        "### Maximum length specifiers\n",
        "\n",
        "**Maximum** length is specified after a dot(`.`)."
      ]
    },
    {
      "cell_type": "code",
      "execution_count": null,
      "id": "995f7658-9a70-4913-b988-b3ab5b51c580",
      "metadata": {
        "id": "995f7658-9a70-4913-b988-b3ab5b51c580",
        "outputId": "2abc66fd-fbf1-4e31-902a-c9262e36deb8"
      },
      "outputs": [
        {
          "name": "stdout",
          "output_type": "stream",
          "text": [
            "x:.5 |abc|\n",
            "y:.5 |abcde|\n"
          ]
        }
      ],
      "source": [
        "x = \"abc\"\n",
        "y = \"abcdefg\"\n",
        "print(f'x:.5 |{x:.5}|')\n",
        "print(f'y:.5 |{y:.5}|')"
      ]
    },
    {
      "cell_type": "markdown",
      "id": "b0d48cd9-7f07-46e8-a65e-488811448b69",
      "metadata": {
        "id": "b0d48cd9-7f07-46e8-a65e-488811448b69"
      },
      "source": [
        "Note that `y` is truncated because of the length limit."
      ]
    },
    {
      "cell_type": "markdown",
      "id": "437af0ad-da15-4656-be6c-4f558ad2f066",
      "metadata": {
        "id": "437af0ad-da15-4656-be6c-4f558ad2f066"
      },
      "source": [
        "### Min and Max\n",
        "\n",
        "We can specify both minimum and maximum length:"
      ]
    },
    {
      "cell_type": "code",
      "execution_count": null,
      "id": "37b26284-cdfc-4d41-914e-5e97711a4e81",
      "metadata": {
        "id": "37b26284-cdfc-4d41-914e-5e97711a4e81",
        "outputId": "e3b15221-5b51-4280-afd3-eea573348b19"
      },
      "outputs": [
        {
          "name": "stdout",
          "output_type": "stream",
          "text": [
            "x:5.5 |abc  |\n",
            "y:5.5 |abcde|\n"
          ]
        }
      ],
      "source": [
        "x = \"abc\"\n",
        "y = \"abcdefg\"\n",
        "print(f'x:5.5 |{x:5.5}|')\n",
        "print(f'y:5.5 |{y:5.5}|')"
      ]
    },
    {
      "cell_type": "markdown",
      "id": "2ae18170-366b-418a-9229-4f3980586cfa",
      "metadata": {
        "id": "2ae18170-366b-418a-9229-4f3980586cfa"
      },
      "source": [
        "### Alignment\n",
        "\n",
        "With minimum length, we can also specify an **alignment** by adding symbol `<`, `^`, or `>` before the specifier:"
      ]
    },
    {
      "cell_type": "code",
      "execution_count": null,
      "id": "0383498e-f046-426e-b5cb-5262eecad8c3",
      "metadata": {
        "id": "0383498e-f046-426e-b5cb-5262eecad8c3",
        "outputId": "1400b07e-8626-45c6-877d-56df9fd7995b"
      },
      "outputs": [
        {
          "name": "stdout",
          "output_type": "stream",
          "text": [
            "x:<5 |abc  |\n",
            "x:^5 | abc |\n",
            "x:>5 |  abc|\n"
          ]
        }
      ],
      "source": [
        "x = \"abc\"\n",
        "print(f'x:<5 |{x:<5}|')\n",
        "print(f'x:^5 |{x:^5}|')\n",
        "print(f'x:>5 |{x:>5}|')"
      ]
    },
    {
      "cell_type": "markdown",
      "id": "3d2b8eb7-110c-426f-965b-288821589be8",
      "metadata": {
        "id": "3d2b8eb7-110c-426f-965b-288821589be8"
      },
      "source": [
        "You can see that `<`, `^`, and `>` corresponds to left, center, and right alignment respectively."
      ]
    },
    {
      "cell_type": "markdown",
      "id": "4f2f432d-9543-4382-8fab-b6ce8a20ddc7",
      "metadata": {
        "id": "4f2f432d-9543-4382-8fab-b6ce8a20ddc7"
      },
      "source": [
        "### Padding\n",
        "\n",
        "Additionally, a **padding scheme** can also be specified by adding the padding character before the alignment:"
      ]
    },
    {
      "cell_type": "code",
      "execution_count": null,
      "id": "8f377469-50f1-400a-92aa-8267a8b8fcb4",
      "metadata": {
        "id": "8f377469-50f1-400a-92aa-8267a8b8fcb4",
        "outputId": "d9b76c6e-ca7c-480b-a95a-363d52f5c857"
      },
      "outputs": [
        {
          "name": "stdout",
          "output_type": "stream",
          "text": [
            "x:_<5 |abc__|\n",
            "x:^^5 |*abc*|\n",
            "x:@>5 |@@abc|\n"
          ]
        }
      ],
      "source": [
        "x = \"abc\"\n",
        "print(f'x:_<5 |{x:_<5}|')\n",
        "print(f'x:^^5 |{x:*^5}|')\n",
        "print(f'x:@>5 |{x:@>5}|')"
      ]
    },
    {
      "cell_type": "markdown",
      "id": "ba6a4200-d8cd-4c22-8be4-c042afece97b",
      "metadata": {
        "id": "ba6a4200-d8cd-4c22-8be4-c042afece97b"
      },
      "source": [
        "## F-string with numbers\n",
        "\n",
        "By default all values will be formatted as string. To format a value as number, we add a `d` (for integer) or `f` (for floating point) at the end of the specifier in the place holder:"
      ]
    },
    {
      "cell_type": "code",
      "execution_count": null,
      "id": "11d6541c-ae16-4827-a4ce-d448f4d1c6e4",
      "metadata": {
        "id": "11d6541c-ae16-4827-a4ce-d448f4d1c6e4",
        "outputId": "82b5252e-692d-4cf4-a910-35f065a1d303"
      },
      "outputs": [
        {
          "name": "stdout",
          "output_type": "stream",
          "text": [
            "a:d |123|\n",
            "b:f |456.789000|\n"
          ]
        }
      ],
      "source": [
        "a = 123\n",
        "b = 456.789\n",
        "print(f'a:d |{a:d}|')\n",
        "print(f'b:f |{b:f}|')"
      ]
    },
    {
      "cell_type": "markdown",
      "id": "50f3bca4-f778-40d1-9cdd-9e37ee399160",
      "metadata": {
        "id": "50f3bca4-f778-40d1-9cdd-9e37ee399160"
      },
      "source": [
        "### Number base\n",
        "\n",
        "Apart from `d` for decimal values, we can also output integer in binary (`b`), octal (`o`) or hexadecimal (`x` or `X`) forms. For hexadecimal values, `x` or `X` control the letter case for `a` to `f`."
      ]
    },
    {
      "cell_type": "code",
      "execution_count": null,
      "id": "6bf8917e-8437-4903-bb1b-16037099ff1b",
      "metadata": {
        "id": "6bf8917e-8437-4903-bb1b-16037099ff1b",
        "outputId": "3f9bf678-9c25-41da-e8a0-b31a3f1286fc"
      },
      "outputs": [
        {
          "name": "stdout",
          "output_type": "stream",
          "text": [
            "a:d: 123\n",
            "a:b: 1111011\n",
            "a:o: 173\n",
            "a:x: 7b\n",
            "a:X: 7B\n"
          ]
        }
      ],
      "source": [
        "a = 123\n",
        "print(f'a:d: {a:d}')\n",
        "print(f'a:b: {a:b}')\n",
        "print(f'a:o: {a:o}')\n",
        "print(f'a:x: {a:x}')\n",
        "print(f'a:X: {a:X}')"
      ]
    },
    {
      "cell_type": "markdown",
      "id": "890938f3-e9b4-40f2-bbf0-4e091796d675",
      "metadata": {
        "id": "890938f3-e9b4-40f2-bbf0-4e091796d675"
      },
      "source": [
        "### Min for Numbers\n",
        "\n",
        "For integer, we can set the **minimum** length. Note that numbers are **right-aligned** by default."
      ]
    },
    {
      "cell_type": "code",
      "execution_count": null,
      "id": "4a3f90db-bd30-4085-9002-7de362efa8f2",
      "metadata": {
        "id": "4a3f90db-bd30-4085-9002-7de362efa8f2",
        "outputId": "4e9fb8c4-264e-4493-f51e-8f3abadbbc34"
      },
      "outputs": [
        {
          "name": "stdout",
          "output_type": "stream",
          "text": [
            "a:5d |  123|\n",
            "b:5d |1234567|\n"
          ]
        }
      ],
      "source": [
        "a = 123\n",
        "b = 1234567\n",
        "print(f'a:5d |{a:5d}|')\n",
        "print(f'b:5d |{b:5d}|')"
      ]
    },
    {
      "cell_type": "markdown",
      "id": "b3f49004-a657-474a-9722-377880dcc629",
      "metadata": {
        "id": "b3f49004-a657-474a-9722-377880dcc629"
      },
      "source": [
        "### Min for floating\n",
        "\n",
        "For floating point values, specifying only the minimum length specifier may has no effect as there is a default precision setting of 6 decimal places:"
      ]
    },
    {
      "cell_type": "code",
      "execution_count": null,
      "id": "5ed142fc-7152-46b1-b6e1-a33a8c2842b5",
      "metadata": {
        "id": "5ed142fc-7152-46b1-b6e1-a33a8c2842b5",
        "outputId": "c2dec495-47da-49a1-906b-dbf52dc2962c"
      },
      "outputs": [
        {
          "name": "stdout",
          "output_type": "stream",
          "text": [
            "b:7f  |456.789000|\n",
            "b:9f  |456.789000|\n",
            "b:11f | 456.789000|\n"
          ]
        }
      ],
      "source": [
        "b = 456.789\n",
        "print(f'b:7f  |{b:7f}|')\n",
        "print(f'b:9f  |{b:9f}|')\n",
        "print(f'b:11f |{b:11f}|')"
      ]
    },
    {
      "cell_type": "markdown",
      "id": "9e063e84-7ec8-4ecf-95c6-162b4d56a232",
      "metadata": {
        "id": "9e063e84-7ec8-4ecf-95c6-162b4d56a232"
      },
      "source": [
        "### Precision specifier\n",
        "\n",
        "For floating point values, the specifier after the dot `.` specifies the **precision**. (There is no precision specifier for integers.)"
      ]
    },
    {
      "cell_type": "code",
      "execution_count": null,
      "id": "6e79fc1b-f2d9-454d-9b16-f68ddeb69a75",
      "metadata": {
        "id": "6e79fc1b-f2d9-454d-9b16-f68ddeb69a75",
        "outputId": "09d5a585-b604-4047-8f5d-328142bd0f0f"
      },
      "outputs": [
        {
          "name": "stdout",
          "output_type": "stream",
          "text": [
            "b:.2f |456.79|\n",
            "b:.3f |456.789|\n",
            "b:.4f |456.7890|\n"
          ]
        }
      ],
      "source": [
        "b = 456.789\n",
        "print(f'b:.2f |{b:.2f}|')\n",
        "print(f'b:.3f |{b:.3f}|')\n",
        "print(f'b:.4f |{b:.4f}|')"
      ]
    },
    {
      "cell_type": "markdown",
      "id": "10ded1e0-d6f4-4c96-9165-a81e0337f306",
      "metadata": {
        "id": "10ded1e0-d6f4-4c96-9165-a81e0337f306"
      },
      "source": [
        "### Min and precision\n",
        "\n",
        "Minimum length specifier becomes more meaningful when precision is specified:"
      ]
    },
    {
      "cell_type": "code",
      "execution_count": null,
      "id": "c57fa4d6-eaa5-4154-89ae-b5a09fb3487c",
      "metadata": {
        "id": "c57fa4d6-eaa5-4154-89ae-b5a09fb3487c",
        "outputId": "6b7980c3-4813-415f-b176-c19c47bf1e44"
      },
      "outputs": [
        {
          "name": "stdout",
          "output_type": "stream",
          "text": [
            "b:7.2f | 456.79|\n",
            "b:8.4f |456.7890|\n",
            "b:9.4f | 456.7890|\n"
          ]
        }
      ],
      "source": [
        "b = 456.789\n",
        "print(f'b:7.2f |{b:7.2f}|')\n",
        "print(f'b:8.4f |{b:8.4f}|')\n",
        "print(f'b:9.4f |{b:9.4f}|')"
      ]
    },
    {
      "cell_type": "markdown",
      "id": "595d4aaa-053c-44c7-91d3-dd5b5b001350",
      "metadata": {
        "id": "595d4aaa-053c-44c7-91d3-dd5b5b001350"
      },
      "source": [
        "Notice how the first value is rounded."
      ]
    },
    {
      "cell_type": "markdown",
      "id": "36e728bf-e836-4165-ab9c-738015f9484a",
      "metadata": {
        "id": "36e728bf-e836-4165-ab9c-738015f9484a"
      },
      "source": [
        "### 0-padding\n",
        "\n",
        "For any numbers, adding `0` before the specifier pad the value with zeros."
      ]
    },
    {
      "cell_type": "code",
      "execution_count": null,
      "id": "d606cacf-a777-4ee6-9a60-7b7cb3b990c0",
      "metadata": {
        "id": "d606cacf-a777-4ee6-9a60-7b7cb3b990c0",
        "outputId": "70639a7c-b9eb-4166-fc57-6dea584a6fd0"
      },
      "outputs": [
        {
          "name": "stdout",
          "output_type": "stream",
          "text": [
            "a:05d |00123|\n",
            "b:05d |-0123|\n",
            "c:07.2f |0456.79|\n",
            "c:09.4f |0456.7890|\n"
          ]
        }
      ],
      "source": [
        "a = 123\n",
        "b = -123\n",
        "c = 456.789\n",
        "print(f'a:05d |{a:05d}|')\n",
        "print(f'b:05d |{b:05d}|')\n",
        "print(f'c:07.2f |{c:07.2f}|')\n",
        "print(f'c:09.4f |{c:09.4f}|')"
      ]
    },
    {
      "cell_type": "markdown",
      "id": "518e8e66-d849-4490-83a2-59ed73e706c6",
      "metadata": {
        "id": "518e8e66-d849-4490-83a2-59ed73e706c6"
      },
      "source": [
        "### Sign alignment\n",
        "\n",
        "Finally, we can add `+` to force a positive sign, or add a space` ` to force a space for positive value. This help aligning positive values with negative values."
      ]
    },
    {
      "cell_type": "code",
      "execution_count": null,
      "id": "770fc072-88ce-4fe7-b8c5-7616f2eef6d7",
      "metadata": {
        "id": "770fc072-88ce-4fe7-b8c5-7616f2eef6d7",
        "outputId": "26e162f4-48ec-4e50-9084-d4b75dc8ee80"
      },
      "outputs": [
        {
          "name": "stdout",
          "output_type": "stream",
          "text": [
            "a:d   |123|\n",
            "a:+d  |+123|\n",
            "a: d  | 123|\n",
            "-a:d  |-123|\n",
            "-a:+d |-123|\n",
            "-a: d |-123|\n"
          ]
        }
      ],
      "source": [
        "a = 123\n",
        "print(f'a:d   |{a:d}|')\n",
        "print(f'a:+d  |{a:+d}|')\n",
        "print(f'a: d  |{a: d}|')\n",
        "print(f'-a:d  |{-a:d}|')\n",
        "print(f'-a:+d |{-a:+d}|')\n",
        "print(f'-a: d |{-a: d}|')"
      ]
    },
    {
      "cell_type": "markdown",
      "id": "3fa73b43-d47a-431c-8c9f-d077cdf277f9",
      "metadata": {
        "id": "3fa73b43-d47a-431c-8c9f-d077cdf277f9"
      },
      "source": [
        "## Variable specifiers\n",
        "\n",
        "We can also use another placeholder in any part of the specifier. This allows **variables** to be used in the specifiers:"
      ]
    },
    {
      "cell_type": "code",
      "execution_count": null,
      "id": "394db423-ec73-48f1-a5c7-61e21287a46a",
      "metadata": {
        "id": "394db423-ec73-48f1-a5c7-61e21287a46a",
        "outputId": "bea58012-7a9e-4e36-b448-3dcbfe465740"
      },
      "outputs": [
        {
          "name": "stdout",
          "output_type": "stream",
          "text": [
            "b:{len}.{prec}f     |456.79|\n",
            "b:{len+2}.{prec}f   | 456.79|\n",
            "b:{len}.{prec+2}f   |456.7890|\n",
            "b:{len+4}.{prec+2}f | 456.7890|\n"
          ]
        }
      ],
      "source": [
        "b = 456.789\n",
        "len = 5\n",
        "prec = 2\n",
        "print(f'b:{{len}}.{{prec}}f     |{b:{len}.{prec}f}|')\n",
        "print(f'b:{{len+2}}.{{prec}}f   |{b:{len+2}.{prec}f}|')\n",
        "print(f'b:{{len}}.{{prec+2}}f   |{b:{len}.{prec+2}f}|')\n",
        "print(f'b:{{len+4}}.{{prec+2}}f |{b:{len+4}.{prec+2}f}|')"
      ]
    },
    {
      "cell_type": "markdown",
      "id": "bcee9f80-d082-407f-9ad4-901f70aaee5c",
      "metadata": {
        "id": "bcee9f80-d082-407f-9ad4-901f70aaee5c"
      },
      "source": [
        "## Other formatting options"
      ]
    },
    {
      "cell_type": "markdown",
      "id": "16de3c79-657d-4975-a39c-a7dd3b3723ba",
      "metadata": {
        "id": "16de3c79-657d-4975-a39c-a7dd3b3723ba"
      },
      "source": [
        "## `format()`\n",
        "\n",
        "`format()` is very similar to f-string, except that values are passed into the `format()` function instead of specifying in the placeholder.\n",
        "\n",
        "Reference: <https://docs.python.org/3/library/string.html#formatstrings>"
      ]
    },
    {
      "cell_type": "code",
      "execution_count": null,
      "id": "58f6f642-5fcd-46df-9a0c-b16765ff84f2",
      "metadata": {
        "id": "58f6f642-5fcd-46df-9a0c-b16765ff84f2",
        "outputId": "6a91b5b9-697a-43cd-855f-ae2720559b59"
      },
      "outputs": [
        {
          "name": "stdout",
          "output_type": "stream",
          "text": [
            "123 + 456.789 = 579.789\n"
          ]
        }
      ],
      "source": [
        "a = 123\n",
        "b = 456.789\n",
        "print('{} + {} = {}'.format(a, b, a + b))"
      ]
    },
    {
      "cell_type": "markdown",
      "id": "d7c35fe2-309a-4c3a-9496-409959077a0a",
      "metadata": {
        "id": "d7c35fe2-309a-4c3a-9496-409959077a0a"
      },
      "source": [
        "## `%`-formatting\n",
        "\n",
        "`%`-formatting uses `%` as an operator for strings. It allows formatting to be done using similar style as `printf()` in C programming language.\n",
        "This is widely used in Python 2.\n",
        "\n",
        "Reference: <https://docs.python.org/3/library/stdtypes.html#printf-style-string-formatting>"
      ]
    },
    {
      "cell_type": "code",
      "execution_count": null,
      "id": "77cc8b13-4cbd-4597-bc00-ab4b454c7951",
      "metadata": {
        "id": "77cc8b13-4cbd-4597-bc00-ab4b454c7951",
        "outputId": "56e7df6e-b96d-4378-ca18-0ed569a8eb57"
      },
      "outputs": [
        {
          "name": "stdout",
          "output_type": "stream",
          "text": [
            "123 + 456 = 579\n"
          ]
        }
      ],
      "source": [
        "a = 123\n",
        "b = 456.789\n",
        "print('%d + %d = %d'%(a, b, a + b))"
      ]
    },
    {
      "cell_type": "markdown",
      "id": "f830fa83",
      "metadata": {
        "id": "f830fa83"
      },
      "source": [
        "# Self-evaluation exercises (2-3)"
      ]
    },
    {
      "cell_type": "markdown",
      "id": "1a73281c-9399-4a2b-a0f6-7e336bfa5079",
      "metadata": {
        "id": "1a73281c-9399-4a2b-a0f6-7e336bfa5079"
      },
      "source": [
        "## Challenge 2-3\n",
        "\n",
        "Consider the following code finding \\\\(\\pi\\\\) using **Leibniz formula**:\n",
        "\n",
        "```python\n",
        "n = 10\n",
        "pi = 0\n",
        "for i in range(n):\n",
        "    pi += (-1) ** i * 4 / (2 * i + 1)\n",
        "print(pi)\n",
        "```\n",
        "\n",
        "The result of PI with \\\\(n\\\\) equals 1, 10, 100, ..., 100000 can be summarized in a table:\n",
        "\n",
        "```text\n",
        "+------+--------+\n",
        "|  n   |   pi   |\n",
        "+------+--------+\n",
        "|     1|4.000000|\n",
        "|    10|3.041840|\n",
        "|   100|3.131593|\n",
        "|  1000|3.140593|\n",
        "| 10000|3.141493|\n",
        "|100000|3.141583|\n",
        "+------+--------+\n",
        "```"
      ]
    },
    {
      "cell_type": "markdown",
      "id": "161bd438",
      "metadata": {
        "id": "161bd438"
      },
      "source": [
        "## Challenge 2-3 (cont'd)\n",
        "\n",
        "- Write a program that reads one input integer, which controls the number of rows to be printed in the previous table.\n",
        "- For the example in the previous slide, the input value should be `6`.\n",
        "- You should format the table so that the values are properly aligned. You can decide on the exact format of the table yourselves.\n",
        "\n",
        "Here is another sample output when input value equals `3`.  \n",
        "\n",
        "```text\n",
        "+---+--------+\n",
        "| n |   pi   |\n",
        "+---+--------+\n",
        "|  1|4.000000|\n",
        "| 10|3.041840|\n",
        "|100|3.131593|\n",
        "+---+--------+\n",
        "```"
      ]
    }
  ],
  "metadata": {
    "celltoolbar": "Slideshow",
    "kernelspec": {
      "display_name": "Python 3 (ipykernel)",
      "language": "python",
      "name": "python3"
    },
    "language_info": {
      "codemirror_mode": {
        "name": "ipython",
        "version": 3
      },
      "file_extension": ".py",
      "mimetype": "text/x-python",
      "name": "python",
      "nbconvert_exporter": "python",
      "pygments_lexer": "ipython3",
      "version": "3.11.4"
    },
    "vscode": {
      "interpreter": {
        "hash": "bd5508c2ffc7f17f7d31cf4086cc872f89e96996a08987e995649e5fbe85a3a4"
      }
    },
    "colab": {
      "provenance": [],
      "include_colab_link": true
    }
  },
  "nbformat": 4,
  "nbformat_minor": 5
}